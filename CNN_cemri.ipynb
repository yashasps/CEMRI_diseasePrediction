{
  "nbformat": 4,
  "nbformat_minor": 0,
  "metadata": {
    "colab": {
      "name": "his_cemri.ipynb",
      "provenance": []
    },
    "kernelspec": {
      "name": "python3",
      "display_name": "Python 3"
    }
  },
  "cells": [
    {
      "cell_type": "code",
      "metadata": {
        "id": "N_NBOvDbBtu5",
        "colab_type": "code",
        "colab": {}
      },
      "source": [
        "shutil.rmtree(\"/content/cemri\")"
      ],
      "execution_count": null,
      "outputs": []
    },
    {
      "cell_type": "code",
      "metadata": {
        "id": "2I2zaUW8-dM8",
        "colab_type": "code",
        "colab": {
          "base_uri": "https://localhost:8080/",
          "height": 34
        },
        "outputId": "790b1ffc-493f-4458-940d-6fe84f9e9829"
      },
      "source": [
        "from google.colab import drive\n",
        "drive.mount('/content/gdrive')"
      ],
      "execution_count": null,
      "outputs": [
        {
          "output_type": "stream",
          "text": [
            "Mounted at /content/gdrive\n"
          ],
          "name": "stdout"
        }
      ]
    },
    {
      "cell_type": "code",
      "metadata": {
        "id": "EcB_VD_im3dX",
        "colab_type": "code",
        "colab": {}
      },
      "source": [
        "import shutil\n",
        "shutil.unpack_archive(\"/content/cemri.zip\", \"/content/cemri/\")"
      ],
      "execution_count": null,
      "outputs": []
    },
    {
      "cell_type": "code",
      "metadata": {
        "id": "GH6r2nev6wDl",
        "colab_type": "code",
        "colab": {
          "base_uri": "https://localhost:8080/",
          "height": 34
        },
        "outputId": "e90ef4c5-48a1-4715-d479-365644a1baac"
      },
      "source": [
        "import shutil\n",
        "shutil.copytree(\"/content/gdrive/My Drive/cemri/\", \"/content/cemri/\")"
      ],
      "execution_count": null,
      "outputs": [
        {
          "output_type": "execute_result",
          "data": {
            "text/plain": [
              "'/content/cemri/'"
            ]
          },
          "metadata": {
            "tags": []
          },
          "execution_count": 17
        }
      ]
    },
    {
      "cell_type": "code",
      "metadata": {
        "id": "s1oqsmaNoLf5",
        "colab_type": "code",
        "colab": {}
      },
      "source": [
        "import glob\n",
        "import os\n",
        "import numpy as np\n",
        "import matplotlib.pyplot as plt\n",
        "from sklearn.model_selection import train_test_split\n",
        "from keras.preprocessing.image import ImageDataGenerator, load_img, img_to_array, array_to_img"
      ],
      "execution_count": null,
      "outputs": []
    },
    {
      "cell_type": "code",
      "metadata": {
        "id": "y-QLR1a8oOuZ",
        "colab_type": "code",
        "colab": {}
      },
      "source": [
        "#loading images using load_img\n",
        "\n",
        "#converting images into array\n",
        "\n",
        "#putting array images into train_imgs\n",
        "\n",
        "IMG_DIM = (256, 256)\n",
        "train_files = glob.glob('/content/cemri/train/*')\n",
        "train_imgs = [img_to_array(load_img(img, target_size=IMG_DIM)) for img in train_files]\n",
        "train_imgs = np.array(train_imgs)\n",
        "\n",
        "#getting labels from the image name\n",
        "train_labels = [fn.split('/')[-1].split('_')[0]  for fn  in train_files]\n",
        "\n",
        "validation_files = glob.glob('/content/cemri/test/*')\n",
        "validation_imgs = [img_to_array(load_img(img, target_size=IMG_DIM)) for img in validation_files]\n",
        "validation_imgs = np.array(validation_imgs)\n",
        "validation_labels = [fn.split('/')[-1].split('_')[0]  for fn in validation_files]\n",
        "\n"
      ],
      "execution_count": null,
      "outputs": []
    },
    {
      "cell_type": "code",
      "metadata": {
        "id": "aQ4j6AfPoPMR",
        "colab_type": "code",
        "colab": {
          "base_uri": "https://localhost:8080/",
          "height": 51
        },
        "outputId": "b60d62a7-24e1-41c8-b89d-6c62aa24a185"
      },
      "source": [
        "print(len(validation_labels),len(train_labels))\n",
        "\n",
        "print(validation_imgs.shape)"
      ],
      "execution_count": null,
      "outputs": [
        {
          "output_type": "stream",
          "text": [
            "611 2453\n",
            "(611, 256, 256, 3)\n"
          ],
          "name": "stdout"
        }
      ]
    },
    {
      "cell_type": "code",
      "metadata": {
        "id": "lFB7RrPRoPop",
        "colab_type": "code",
        "colab": {}
      },
      "source": [
        "#normalizing individual channel in images array\n",
        "\n",
        "train_imgs_scaled = train_imgs.astype('float32')\n",
        "validation_imgs_scaled  = validation_imgs.astype('float32')\n",
        "train_imgs_scaled /= 255.\n",
        "validation_imgs_scaled /= 255.\n",
        "\n"
      ],
      "execution_count": null,
      "outputs": []
    },
    {
      "cell_type": "code",
      "metadata": {
        "id": "O_Kkx4vXAwBt",
        "colab_type": "code",
        "colab": {}
      },
      "source": [
        "batch_size = 64\n",
        "epochs = 6\n",
        "input_shape = (256,256, 3)"
      ],
      "execution_count": null,
      "outputs": []
    },
    {
      "cell_type": "code",
      "metadata": {
        "id": "iBJjSdYUAylC",
        "colab_type": "code",
        "colab": {}
      },
      "source": [
        "#encoding image labels \n",
        "\n",
        "from sklearn.preprocessing import LabelEncoder\n",
        "\n",
        "le = LabelEncoder()\n",
        "le.fit(train_labels)\n",
        "train_labels_enc = le.transform(train_labels)\n",
        "validation_labels_enc = le.transform(validation_labels)\n",
        "\n",
        "#tranforming labels to catogerical\n",
        "from keras.utils import to_categorical\n",
        "train_labels_c = to_categorical(train_labels_enc)\n",
        "validation_labels_c = to_categorical(validation_labels_enc)"
      ],
      "execution_count": null,
      "outputs": []
    },
    {
      "cell_type": "code",
      "metadata": {
        "id": "VIW3tHIuHN8h",
        "colab_type": "code",
        "colab": {}
      },
      "source": [
        ""
      ],
      "execution_count": null,
      "outputs": []
    },
    {
      "cell_type": "code",
      "metadata": {
        "id": "l2tpw7YU8bh5",
        "colab_type": "code",
        "colab": {
          "base_uri": "https://localhost:8080/",
          "height": 34
        },
        "outputId": "ed186245-0b6e-448e-bda7-d0e6330750aa"
      },
      "source": [
        "train_labels_enc"
      ],
      "execution_count": null,
      "outputs": [
        {
          "output_type": "execute_result",
          "data": {
            "text/plain": [
              "array([0, 2, 0, ..., 1, 0, 0])"
            ]
          },
          "metadata": {
            "tags": []
          },
          "execution_count": 24
        }
      ]
    },
    {
      "cell_type": "code",
      "metadata": {
        "id": "bBFwqJfs80h4",
        "colab_type": "code",
        "colab": {
          "base_uri": "https://localhost:8080/",
          "height": 138
        },
        "outputId": "66d37cf7-053a-4334-97da-b492b4792751"
      },
      "source": [
        "train_labels_c"
      ],
      "execution_count": null,
      "outputs": [
        {
          "output_type": "execute_result",
          "data": {
            "text/plain": [
              "array([[1., 0., 0.],\n",
              "       [0., 0., 1.],\n",
              "       [1., 0., 0.],\n",
              "       ...,\n",
              "       [0., 1., 0.],\n",
              "       [1., 0., 0.],\n",
              "       [1., 0., 0.]], dtype=float32)"
            ]
          },
          "metadata": {
            "tags": []
          },
          "execution_count": 25
        }
      ]
    },
    {
      "cell_type": "code",
      "metadata": {
        "id": "-11cPe9foP_Z",
        "colab_type": "code",
        "colab": {
          "base_uri": "https://localhost:8080/",
          "height": 527
        },
        "outputId": "9706ba12-e395-4edd-c371-5e8034eabce6"
      },
      "source": [
        "#building model\n",
        "\n",
        "from keras.layers import Conv2D, MaxPooling2D, Flatten, Dense, Dropout\n",
        "from keras.models import Sequential\n",
        "from keras import optimizers\n",
        "import tensorflow as tf\n",
        "\n",
        "model = Sequential()\n",
        "\n",
        "model.add(Conv2D(16, kernel_size=(3, 3), activation='relu',\n",
        "                 input_shape=input_shape))\n",
        "model.add(MaxPooling2D(pool_size=(2, 2)))\n",
        "\n",
        "model.add(Conv2D(64, kernel_size=(3, 3), activation='relu'))\n",
        "model.add(MaxPooling2D(pool_size=(2, 2)))\n",
        "\n",
        "model.add(Conv2D(128, kernel_size=(3, 3), activation='relu'))\n",
        "model.add(MaxPooling2D(pool_size=(2, 2)))\n",
        "\n",
        "model.add(Conv2D(256, kernel_size=(3, 3), activation='relu'))\n",
        "model.add(MaxPooling2D(pool_size=(2, 2)))\n",
        "\n",
        "model.add(Flatten())\n",
        "model.add(Dense(512, activation=tf.nn.relu))\n",
        "model.add(Dense(3, activation=tf.nn.softmax))\n",
        "\n",
        "opt = optimizers.Adam(learning_rate = 0.001) \n",
        "model.compile(loss='binary_crossentropy',\n",
        "              optimizer=opt,\n",
        "              metrics=['accuracy'])\n",
        "\n",
        "model.summary()"
      ],
      "execution_count": null,
      "outputs": [
        {
          "output_type": "stream",
          "text": [
            "Model: \"sequential_1\"\n",
            "_________________________________________________________________\n",
            "Layer (type)                 Output Shape              Param #   \n",
            "=================================================================\n",
            "conv2d_1 (Conv2D)            (None, 254, 254, 16)      448       \n",
            "_________________________________________________________________\n",
            "max_pooling2d_1 (MaxPooling2 (None, 127, 127, 16)      0         \n",
            "_________________________________________________________________\n",
            "conv2d_2 (Conv2D)            (None, 125, 125, 64)      9280      \n",
            "_________________________________________________________________\n",
            "max_pooling2d_2 (MaxPooling2 (None, 62, 62, 64)        0         \n",
            "_________________________________________________________________\n",
            "conv2d_3 (Conv2D)            (None, 60, 60, 128)       73856     \n",
            "_________________________________________________________________\n",
            "max_pooling2d_3 (MaxPooling2 (None, 30, 30, 128)       0         \n",
            "_________________________________________________________________\n",
            "conv2d_4 (Conv2D)            (None, 28, 28, 256)       295168    \n",
            "_________________________________________________________________\n",
            "max_pooling2d_4 (MaxPooling2 (None, 14, 14, 256)       0         \n",
            "_________________________________________________________________\n",
            "flatten_1 (Flatten)          (None, 50176)             0         \n",
            "_________________________________________________________________\n",
            "dense_1 (Dense)              (None, 512)               25690624  \n",
            "_________________________________________________________________\n",
            "dense_2 (Dense)              (None, 3)                 1539      \n",
            "=================================================================\n",
            "Total params: 26,070,915\n",
            "Trainable params: 26,070,915\n",
            "Non-trainable params: 0\n",
            "_________________________________________________________________\n"
          ],
          "name": "stdout"
        }
      ]
    },
    {
      "cell_type": "code",
      "metadata": {
        "id": "DA8nHJ2doQUo",
        "colab_type": "code",
        "colab": {
          "base_uri": "https://localhost:8080/",
          "height": 258
        },
        "outputId": "fc0ab965-d531-436f-dd0c-bada41c3bfe6"
      },
      "source": [
        "#training model\n",
        "\n",
        "history = model.fit(x=train_imgs_scaled, y=train_labels_c,\n",
        "                    validation_data=(validation_imgs_scaled, validation_labels_c),\n",
        "                    batch_size=batch_size,\n",
        "                    epochs=epochs,\n",
        "                    verbose=1)\n",
        "#model.save(\"cnn\"+str(epochs)+\"_aft_aug.h5\")learning_rate=0.1"
      ],
      "execution_count": null,
      "outputs": [
        {
          "output_type": "stream",
          "text": [
            "Train on 2453 samples, validate on 611 samples\n",
            "Epoch 1/6\n",
            "2453/2453 [==============================] - 261s 106ms/step - loss: 0.5008 - accuracy: 0.7490 - val_loss: 0.3910 - val_accuracy: 0.7905\n",
            "Epoch 2/6\n",
            "2453/2453 [==============================] - 259s 106ms/step - loss: 0.3478 - accuracy: 0.8358 - val_loss: 0.2691 - val_accuracy: 0.8734\n",
            "Epoch 3/6\n",
            "2453/2453 [==============================] - 257s 105ms/step - loss: 0.2628 - accuracy: 0.8867 - val_loss: 0.2154 - val_accuracy: 0.8991\n",
            "Epoch 4/6\n",
            "2453/2453 [==============================] - 259s 106ms/step - loss: 0.1972 - accuracy: 0.9143 - val_loss: 0.2231 - val_accuracy: 0.9045\n",
            "Epoch 5/6\n",
            "2453/2453 [==============================] - 260s 106ms/step - loss: 0.1418 - accuracy: 0.9424 - val_loss: 0.1776 - val_accuracy: 0.9220\n",
            "Epoch 6/6\n",
            "2453/2453 [==============================] - 259s 105ms/step - loss: 0.0789 - accuracy: 0.9723 - val_loss: 0.1065 - val_accuracy: 0.9564\n"
          ],
          "name": "stdout"
        }
      ]
    },
    {
      "cell_type": "code",
      "metadata": {
        "id": "YCeZgR5uoZc7",
        "colab_type": "code",
        "colab": {
          "base_uri": "https://localhost:8080/",
          "height": 308
        },
        "outputId": "99e7ba08-699d-4a4b-a692-77b0342c6007"
      },
      "source": [
        "f, (ax1, ax2) = plt.subplots(1, 2, figsize=(12, 4))\n",
        "t = f.suptitle('Basic CNN Performance', fontsize=12)\n",
        "f.subplots_adjust(top=0.85, wspace=0.3)\n",
        "\n",
        "epoch_list = list(range(epochs))\n",
        "ax1.plot(epoch_list, history.history['accuracy'], label='Train Accuracy')\n",
        "ax1.plot(epoch_list, history.history['val_accuracy'], label='Validation Accuracy')\n",
        "ax1.set_xticks(np.arange(0, 31, 5))\n",
        "ax1.set_ylabel('Accuracy Value')\n",
        "ax1.set_xlabel('Epoch')\n",
        "ax1.set_title('Accuracy')\n",
        "l1 = ax1.legend(loc=\"best\")\n",
        "\n",
        "ax2.plot(epoch_list, history.history['loss'], label='Train Loss')\n",
        "ax2.plot(epoch_list, history.history['val_loss'], label='Validation Loss')\n",
        "ax2.set_xticks(np.arange(0, 31, 5))\n",
        "ax2.set_ylabel('Loss Value')\n",
        "ax2.set_xlabel('Epoch')\n",
        "ax2.set_title('Loss')\n",
        "l2 = ax2.legend(loc=\"best\")\n",
        "plt.savefig('cnn'+str(epochs)+'_aft_aug.png')"
      ],
      "execution_count": null,
      "outputs": [
        {
          "output_type": "display_data",
          "data": {
            "image/png": "[encoded data removed]",
            "text/plain": [
              "<Figure size 864x288 with 2 Axes>"
            ]
          },
          "metadata": {
            "tags": [],
            "needs_background": "light"
          }
        }
      ]
    },
    {
      "cell_type": "code",
      "metadata": {
        "id": "RCv69VOkUU84",
        "colab_type": "code",
        "colab": {
          "base_uri": "https://localhost:8080/",
          "height": 34
        },
        "outputId": "9371b941-b010-49e2-a438-257daae8dcaf"
      },
      "source": [
        "accu = history.history\n",
        "training_accu = np.mean(accu['accuracy'])\n",
        "validation_accu = np.mean(accu['val_accuracy'])\n",
        "print(training_accu, validation_accu)"
      ],
      "execution_count": null,
      "outputs": [
        {
          "output_type": "stream",
          "text": [
            "0.88340807 0.8909802337487539\n"
          ],
          "name": "stdout"
        }
      ]
    },
    {
      "cell_type": "code",
      "metadata": {
        "id": "X8xW_1m1oepW",
        "colab_type": "code",
        "colab": {
          "base_uri": "https://localhost:8080/",
          "height": 1000
        },
        "outputId": "7cd6937a-31b2-4969-9758-49685dc96238"
      },
      "source": [
        "\n",
        "\n",
        "#model= tf.keras.models.load_model('/content/cnn7_aft_aug.h5')\n",
        "y = model.predict(validation_imgs_scaled)\n",
        "#print(y)\n",
        "x = ['glioma', 'meningioma', 'pituitary']\n",
        "c = []\n",
        "count,total = 0,0\n",
        "for i in range(len(y)):\n",
        "    v = np.argmax(y[i])\n",
        "    c.append(x[int(v)])\n",
        "p = [[0,0,0],[0,0,0],[0,0,0]]\n",
        "for i in range(len(y)):\n",
        "    total += 1\n",
        "    if c[i] == validation_labels[i]:count += 1\n",
        "    print(\"predicted:\", c[i],\", real_names:\",validation_labels[i])\n",
        "    for j in range(len(x)):\n",
        "\n",
        "        for k in range(len(x)):\n",
        "            if x[j] == c[i] and x[k] == validation_labels[i]: p[k][j] += 1\n",
        "print(p)"
      ],
      "execution_count": null,
      "outputs": [
        {
          "output_type": "stream",
          "text": [
            "predicted: glioma , real_names: glioma\n",
            "predicted: pituitary , real_names: glioma\n",
            "predicted: glioma , real_names: glioma\n",
            "predicted: pituitary , real_names: pituitary\n",
            "predicted: meningioma , real_names: meningioma\n",
            "predicted: glioma , real_names: glioma\n",
            "predicted: meningioma , real_names: meningioma\n",
            "predicted: glioma , real_names: glioma\n",
            "predicted: glioma , real_names: glioma\n",
            "predicted: pituitary , real_names: pituitary\n",
            "predicted: glioma , real_names: glioma\n",
            "predicted: meningioma , real_names: meningioma\n",
            "predicted: meningioma , real_names: meningioma\n",
            "predicted: glioma , real_names: glioma\n",
            "predicted: glioma , real_names: glioma\n",
            "predicted: pituitary , real_names: pituitary\n",
            "predicted: pituitary , real_names: pituitary\n",
            "predicted: pituitary , real_names: pituitary\n",
            "predicted: meningioma , real_names: glioma\n",
            "predicted: glioma , real_names: glioma\n",
            "predicted: glioma , real_names: glioma\n",
            "predicted: glioma , real_names: glioma\n",
            "predicted: pituitary , real_names: pituitary\n",
            "predicted: pituitary , real_names: pituitary\n",
            "predicted: glioma , real_names: glioma\n",
            "predicted: glioma , real_names: glioma\n",
            "predicted: pituitary , real_names: pituitary\n",
            "predicted: glioma , real_names: meningioma\n",
            "predicted: glioma , real_names: glioma\n",
            "predicted: glioma , real_names: glioma\n",
            "predicted: meningioma , real_names: meningioma\n",
            "predicted: meningioma , real_names: glioma\n",
            "predicted: pituitary , real_names: pituitary\n",
            "predicted: glioma , real_names: glioma\n",
            "predicted: meningioma , real_names: meningioma\n",
            "predicted: meningioma , real_names: glioma\n",
            "predicted: pituitary , real_names: pituitary\n",
            "predicted: glioma , real_names: glioma\n",
            "predicted: pituitary , real_names: pituitary\n",
            "predicted: meningioma , real_names: meningioma\n",
            "predicted: meningioma , real_names: meningioma\n",
            "predicted: glioma , real_names: glioma\n",
            "predicted: meningioma , real_names: meningioma\n",
            "predicted: pituitary , real_names: pituitary\n",
            "predicted: pituitary , real_names: pituitary\n",
            "predicted: glioma , real_names: glioma\n",
            "predicted: meningioma , real_names: meningioma\n",
            "predicted: glioma , real_names: glioma\n",
            "predicted: pituitary , real_names: pituitary\n",
            "predicted: meningioma , real_names: meningioma\n",
            "predicted: pituitary , real_names: pituitary\n",
            "predicted: glioma , real_names: glioma\n",
            "predicted: pituitary , real_names: pituitary\n",
            "predicted: glioma , real_names: glioma\n",
            "predicted: meningioma , real_names: glioma\n",
            "predicted: glioma , real_names: glioma\n",
            "predicted: glioma , real_names: glioma\n",
            "predicted: meningioma , real_names: meningioma\n",
            "predicted: meningioma , real_names: meningioma\n",
            "predicted: pituitary , real_names: pituitary\n",
            "predicted: glioma , real_names: meningioma\n",
            "predicted: glioma , real_names: glioma\n",
            "predicted: pituitary , real_names: pituitary\n",
            "predicted: glioma , real_names: glioma\n",
            "predicted: pituitary , real_names: pituitary\n",
            "predicted: pituitary , real_names: pituitary\n",
            "predicted: meningioma , real_names: meningioma\n",
            "predicted: meningioma , real_names: meningioma\n",
            "predicted: glioma , real_names: glioma\n",
            "predicted: glioma , real_names: glioma\n",
            "predicted: pituitary , real_names: pituitary\n",
            "predicted: glioma , real_names: glioma\n",
            "predicted: glioma , real_names: glioma\n",
            "predicted: glioma , real_names: glioma\n",
            "predicted: pituitary , real_names: pituitary\n",
            "predicted: glioma , real_names: glioma\n",
            "predicted: pituitary , real_names: pituitary\n",
            "predicted: meningioma , real_names: glioma\n",
            "predicted: glioma , real_names: glioma\n",
            "predicted: glioma , real_names: glioma\n",
            "predicted: pituitary , real_names: pituitary\n",
            "predicted: pituitary , real_names: pituitary\n",
            "predicted: meningioma , real_names: meningioma\n",
            "predicted: meningioma , real_names: meningioma\n",
            "predicted: pituitary , real_names: pituitary\n",
            "predicted: pituitary , real_names: pituitary\n",
            "predicted: glioma , real_names: glioma\n",
            "predicted: meningioma , real_names: meningioma\n",
            "predicted: glioma , real_names: glioma\n",
            "predicted: pituitary , real_names: pituitary\n",
            "predicted: meningioma , real_names: meningioma\n",
            "predicted: pituitary , real_names: pituitary\n",
            "predicted: glioma , real_names: glioma\n",
            "predicted: glioma , real_names: meningioma\n",
            "predicted: glioma , real_names: glioma\n",
            "predicted: meningioma , real_names: glioma\n",
            "predicted: pituitary , real_names: pituitary\n",
            "predicted: meningioma , real_names: meningioma\n",
            "predicted: pituitary , real_names: pituitary\n",
            "predicted: glioma , real_names: glioma\n",
            "predicted: pituitary , real_names: pituitary\n",
            "predicted: glioma , real_names: glioma\n",
            "predicted: pituitary , real_names: pituitary\n",
            "predicted: glioma , real_names: glioma\n",
            "predicted: glioma , real_names: glioma\n",
            "predicted: pituitary , real_names: pituitary\n",
            "predicted: pituitary , real_names: pituitary\n",
            "predicted: meningioma , real_names: glioma\n",
            "predicted: meningioma , real_names: meningioma\n",
            "predicted: glioma , real_names: glioma\n",
            "predicted: glioma , real_names: glioma\n",
            "predicted: glioma , real_names: glioma\n",
            "predicted: pituitary , real_names: pituitary\n",
            "predicted: glioma , real_names: glioma\n",
            "predicted: glioma , real_names: glioma\n",
            "predicted: meningioma , real_names: meningioma\n",
            "predicted: glioma , real_names: meningioma\n",
            "predicted: meningioma , real_names: meningioma\n",
            "predicted: pituitary , real_names: pituitary\n",
            "predicted: meningioma , real_names: meningioma\n",
            "predicted: glioma , real_names: meningioma\n",
            "predicted: glioma , real_names: meningioma\n",
            "predicted: meningioma , real_names: meningioma\n",
            "predicted: meningioma , real_names: meningioma\n",
            "predicted: glioma , real_names: glioma\n",
            "predicted: glioma , real_names: glioma\n",
            "predicted: glioma , real_names: glioma\n",
            "predicted: pituitary , real_names: pituitary\n",
            "predicted: meningioma , real_names: meningioma\n",
            "predicted: glioma , real_names: glioma\n",
            "predicted: glioma , real_names: glioma\n",
            "predicted: glioma , real_names: glioma\n",
            "predicted: glioma , real_names: glioma\n",
            "predicted: glioma , real_names: glioma\n",
            "predicted: glioma , real_names: glioma\n",
            "predicted: meningioma , real_names: meningioma\n",
            "predicted: glioma , real_names: glioma\n",
            "predicted: glioma , real_names: glioma\n",
            "predicted: glioma , real_names: glioma\n",
            "predicted: pituitary , real_names: pituitary\n",
            "predicted: pituitary , real_names: pituitary\n",
            "predicted: glioma , real_names: glioma\n",
            "predicted: meningioma , real_names: glioma\n",
            "predicted: glioma , real_names: glioma\n",
            "predicted: glioma , real_names: glioma\n",
            "predicted: meningioma , real_names: glioma\n",
            "predicted: pituitary , real_names: pituitary\n",
            "predicted: glioma , real_names: glioma\n",
            "predicted: pituitary , real_names: pituitary\n",
            "predicted: pituitary , real_names: pituitary\n",
            "predicted: glioma , real_names: glioma\n",
            "predicted: glioma , real_names: glioma\n",
            "predicted: glioma , real_names: glioma\n",
            "predicted: pituitary , real_names: pituitary\n",
            "predicted: glioma , real_names: glioma\n",
            "predicted: meningioma , real_names: meningioma\n",
            "predicted: meningioma , real_names: meningioma\n",
            "predicted: glioma , real_names: glioma\n",
            "predicted: pituitary , real_names: pituitary\n",
            "predicted: pituitary , real_names: pituitary\n",
            "predicted: meningioma , real_names: meningioma\n",
            "predicted: meningioma , real_names: meningioma\n",
            "predicted: glioma , real_names: glioma\n",
            "predicted: glioma , real_names: glioma\n",
            "predicted: meningioma , real_names: meningioma\n",
            "predicted: meningioma , real_names: meningioma\n",
            "predicted: meningioma , real_names: meningioma\n",
            "predicted: glioma , real_names: glioma\n",
            "predicted: glioma , real_names: glioma\n",
            "predicted: pituitary , real_names: pituitary\n",
            "predicted: glioma , real_names: glioma\n",
            "predicted: pituitary , real_names: pituitary\n",
            "predicted: glioma , real_names: glioma\n",
            "predicted: glioma , real_names: glioma\n",
            "predicted: meningioma , real_names: glioma\n",
            "predicted: meningioma , real_names: meningioma\n",
            "predicted: glioma , real_names: glioma\n",
            "predicted: pituitary , real_names: pituitary\n",
            "predicted: glioma , real_names: glioma\n",
            "predicted: glioma , real_names: glioma\n",
            "predicted: glioma , real_names: glioma\n",
            "predicted: meningioma , real_names: glioma\n",
            "predicted: glioma , real_names: glioma\n",
            "predicted: pituitary , real_names: pituitary\n",
            "predicted: meningioma , real_names: meningioma\n",
            "predicted: meningioma , real_names: meningioma\n",
            "predicted: glioma , real_names: meningioma\n",
            "predicted: glioma , real_names: glioma\n",
            "predicted: glioma , real_names: glioma\n",
            "predicted: meningioma , real_names: meningioma\n",
            "predicted: glioma , real_names: glioma\n",
            "predicted: meningioma , real_names: meningioma\n",
            "predicted: pituitary , real_names: pituitary\n",
            "predicted: pituitary , real_names: pituitary\n",
            "predicted: meningioma , real_names: meningioma\n",
            "predicted: meningioma , real_names: glioma\n",
            "predicted: glioma , real_names: glioma\n",
            "predicted: pituitary , real_names: pituitary\n",
            "predicted: pituitary , real_names: pituitary\n",
            "predicted: meningioma , real_names: meningioma\n",
            "predicted: glioma , real_names: glioma\n",
            "predicted: pituitary , real_names: pituitary\n",
            "predicted: meningioma , real_names: meningioma\n",
            "predicted: meningioma , real_names: meningioma\n",
            "predicted: glioma , real_names: glioma\n",
            "predicted: pituitary , real_names: pituitary\n",
            "predicted: glioma , real_names: glioma\n",
            "predicted: glioma , real_names: glioma\n",
            "predicted: glioma , real_names: glioma\n",
            "predicted: meningioma , real_names: meningioma\n",
            "predicted: pituitary , real_names: pituitary\n",
            "predicted: glioma , real_names: glioma\n",
            "predicted: pituitary , real_names: pituitary\n",
            "predicted: pituitary , real_names: pituitary\n",
            "predicted: glioma , real_names: glioma\n",
            "predicted: pituitary , real_names: pituitary\n",
            "predicted: pituitary , real_names: pituitary\n",
            "predicted: glioma , real_names: meningioma\n",
            "predicted: glioma , real_names: glioma\n",
            "predicted: pituitary , real_names: pituitary\n",
            "predicted: pituitary , real_names: pituitary\n",
            "predicted: pituitary , real_names: pituitary\n",
            "predicted: pituitary , real_names: pituitary\n",
            "predicted: meningioma , real_names: meningioma\n",
            "predicted: glioma , real_names: glioma\n",
            "predicted: pituitary , real_names: pituitary\n",
            "predicted: glioma , real_names: meningioma\n",
            "predicted: glioma , real_names: glioma\n",
            "predicted: meningioma , real_names: meningioma\n",
            "predicted: pituitary , real_names: pituitary\n",
            "predicted: glioma , real_names: glioma\n",
            "predicted: pituitary , real_names: pituitary\n",
            "predicted: pituitary , real_names: pituitary\n",
            "predicted: pituitary , real_names: pituitary\n",
            "predicted: glioma , real_names: glioma\n",
            "predicted: glioma , real_names: glioma\n",
            "predicted: glioma , real_names: glioma\n",
            "predicted: pituitary , real_names: pituitary\n",
            "predicted: meningioma , real_names: meningioma\n",
            "predicted: glioma , real_names: glioma\n",
            "predicted: pituitary , real_names: pituitary\n",
            "predicted: glioma , real_names: glioma\n",
            "predicted: pituitary , real_names: pituitary\n",
            "predicted: glioma , real_names: glioma\n",
            "predicted: glioma , real_names: glioma\n",
            "predicted: pituitary , real_names: pituitary\n",
            "predicted: meningioma , real_names: glioma\n",
            "predicted: glioma , real_names: glioma\n",
            "predicted: glioma , real_names: glioma\n",
            "predicted: glioma , real_names: glioma\n",
            "predicted: glioma , real_names: glioma\n",
            "predicted: glioma , real_names: glioma\n",
            "predicted: glioma , real_names: glioma\n",
            "predicted: glioma , real_names: glioma\n",
            "predicted: glioma , real_names: glioma\n",
            "predicted: glioma , real_names: glioma\n",
            "predicted: pituitary , real_names: pituitary\n",
            "predicted: glioma , real_names: glioma\n",
            "predicted: glioma , real_names: glioma\n",
            "predicted: pituitary , real_names: pituitary\n",
            "predicted: pituitary , real_names: pituitary\n",
            "predicted: pituitary , real_names: pituitary\n",
            "predicted: pituitary , real_names: pituitary\n",
            "predicted: meningioma , real_names: meningioma\n",
            "predicted: meningioma , real_names: pituitary\n",
            "predicted: meningioma , real_names: meningioma\n",
            "predicted: pituitary , real_names: pituitary\n",
            "predicted: meningioma , real_names: meningioma\n",
            "predicted: glioma , real_names: glioma\n",
            "predicted: meningioma , real_names: meningioma\n",
            "predicted: meningioma , real_names: meningioma\n",
            "predicted: pituitary , real_names: pituitary\n",
            "predicted: meningioma , real_names: meningioma\n",
            "predicted: pituitary , real_names: pituitary\n",
            "predicted: meningioma , real_names: meningioma\n",
            "predicted: glioma , real_names: glioma\n",
            "predicted: meningioma , real_names: meningioma\n",
            "predicted: glioma , real_names: glioma\n",
            "predicted: glioma , real_names: glioma\n",
            "predicted: meningioma , real_names: meningioma\n",
            "predicted: glioma , real_names: glioma\n",
            "predicted: glioma , real_names: glioma\n",
            "predicted: glioma , real_names: glioma\n",
            "predicted: pituitary , real_names: pituitary\n",
            "predicted: pituitary , real_names: pituitary\n",
            "predicted: glioma , real_names: glioma\n",
            "predicted: glioma , real_names: glioma\n",
            "predicted: meningioma , real_names: meningioma\n",
            "predicted: glioma , real_names: glioma\n",
            "predicted: meningioma , real_names: meningioma\n",
            "predicted: meningioma , real_names: meningioma\n",
            "predicted: glioma , real_names: glioma\n",
            "predicted: pituitary , real_names: pituitary\n",
            "predicted: glioma , real_names: glioma\n",
            "predicted: glioma , real_names: glioma\n",
            "predicted: glioma , real_names: glioma\n",
            "predicted: pituitary , real_names: pituitary\n",
            "predicted: glioma , real_names: glioma\n",
            "predicted: pituitary , real_names: pituitary\n",
            "predicted: glioma , real_names: glioma\n",
            "predicted: pituitary , real_names: pituitary\n",
            "predicted: glioma , real_names: glioma\n",
            "predicted: meningioma , real_names: meningioma\n",
            "predicted: glioma , real_names: glioma\n",
            "predicted: glioma , real_names: glioma\n",
            "predicted: meningioma , real_names: meningioma\n",
            "predicted: pituitary , real_names: pituitary\n",
            "predicted: pituitary , real_names: pituitary\n",
            "predicted: pituitary , real_names: pituitary\n",
            "predicted: glioma , real_names: glioma\n",
            "predicted: glioma , real_names: glioma\n",
            "predicted: glioma , real_names: glioma\n",
            "predicted: pituitary , real_names: pituitary\n",
            "predicted: meningioma , real_names: meningioma\n",
            "predicted: meningioma , real_names: meningioma\n",
            "predicted: pituitary , real_names: pituitary\n",
            "predicted: pituitary , real_names: pituitary\n",
            "predicted: glioma , real_names: glioma\n",
            "predicted: meningioma , real_names: meningioma\n",
            "predicted: pituitary , real_names: meningioma\n",
            "predicted: pituitary , real_names: pituitary\n",
            "predicted: meningioma , real_names: meningioma\n",
            "predicted: pituitary , real_names: pituitary\n",
            "predicted: glioma , real_names: glioma\n",
            "predicted: meningioma , real_names: meningioma\n",
            "predicted: meningioma , real_names: meningioma\n",
            "predicted: glioma , real_names: glioma\n",
            "predicted: meningioma , real_names: meningioma\n",
            "predicted: glioma , real_names: glioma\n",
            "predicted: glioma , real_names: glioma\n",
            "predicted: glioma , real_names: glioma\n",
            "predicted: meningioma , real_names: meningioma\n",
            "predicted: meningioma , real_names: meningioma\n",
            "predicted: glioma , real_names: glioma\n",
            "predicted: pituitary , real_names: pituitary\n",
            "predicted: pituitary , real_names: pituitary\n",
            "predicted: meningioma , real_names: glioma\n",
            "predicted: glioma , real_names: glioma\n",
            "predicted: pituitary , real_names: pituitary\n",
            "predicted: meningioma , real_names: glioma\n",
            "predicted: glioma , real_names: glioma\n",
            "predicted: pituitary , real_names: pituitary\n",
            "predicted: glioma , real_names: glioma\n",
            "predicted: pituitary , real_names: pituitary\n",
            "predicted: glioma , real_names: glioma\n",
            "predicted: pituitary , real_names: glioma\n",
            "predicted: meningioma , real_names: meningioma\n",
            "predicted: glioma , real_names: glioma\n",
            "predicted: glioma , real_names: glioma\n",
            "predicted: glioma , real_names: glioma\n",
            "predicted: pituitary , real_names: pituitary\n",
            "predicted: meningioma , real_names: meningioma\n",
            "predicted: pituitary , real_names: pituitary\n",
            "predicted: glioma , real_names: glioma\n",
            "predicted: glioma , real_names: glioma\n",
            "predicted: glioma , real_names: glioma\n",
            "predicted: glioma , real_names: glioma\n",
            "predicted: meningioma , real_names: meningioma\n",
            "predicted: meningioma , real_names: meningioma\n",
            "predicted: glioma , real_names: glioma\n",
            "predicted: glioma , real_names: glioma\n",
            "predicted: pituitary , real_names: pituitary\n",
            "predicted: pituitary , real_names: pituitary\n",
            "predicted: glioma , real_names: glioma\n",
            "predicted: meningioma , real_names: meningioma\n",
            "predicted: meningioma , real_names: meningioma\n",
            "predicted: glioma , real_names: glioma\n",
            "predicted: glioma , real_names: glioma\n",
            "predicted: glioma , real_names: meningioma\n",
            "predicted: glioma , real_names: glioma\n",
            "predicted: pituitary , real_names: pituitary\n",
            "predicted: glioma , real_names: glioma\n",
            "predicted: glioma , real_names: glioma\n",
            "predicted: glioma , real_names: glioma\n",
            "predicted: glioma , real_names: glioma\n",
            "predicted: meningioma , real_names: meningioma\n",
            "predicted: glioma , real_names: glioma\n",
            "predicted: pituitary , real_names: pituitary\n",
            "predicted: glioma , real_names: glioma\n",
            "predicted: pituitary , real_names: pituitary\n",
            "predicted: pituitary , real_names: pituitary\n",
            "predicted: meningioma , real_names: meningioma\n",
            "predicted: pituitary , real_names: pituitary\n",
            "predicted: glioma , real_names: glioma\n",
            "predicted: meningioma , real_names: meningioma\n",
            "predicted: pituitary , real_names: pituitary\n",
            "predicted: glioma , real_names: glioma\n",
            "predicted: pituitary , real_names: pituitary\n",
            "predicted: glioma , real_names: glioma\n",
            "predicted: glioma , real_names: glioma\n",
            "predicted: glioma , real_names: glioma\n",
            "predicted: meningioma , real_names: meningioma\n",
            "predicted: glioma , real_names: glioma\n",
            "predicted: pituitary , real_names: pituitary\n",
            "predicted: glioma , real_names: glioma\n",
            "predicted: pituitary , real_names: pituitary\n",
            "predicted: glioma , real_names: glioma\n",
            "predicted: glioma , real_names: glioma\n",
            "predicted: glioma , real_names: glioma\n",
            "predicted: pituitary , real_names: pituitary\n",
            "predicted: meningioma , real_names: meningioma\n",
            "predicted: glioma , real_names: glioma\n",
            "predicted: glioma , real_names: glioma\n",
            "predicted: meningioma , real_names: meningioma\n",
            "predicted: glioma , real_names: glioma\n",
            "predicted: pituitary , real_names: pituitary\n",
            "predicted: pituitary , real_names: pituitary\n",
            "predicted: pituitary , real_names: pituitary\n",
            "predicted: glioma , real_names: glioma\n",
            "predicted: meningioma , real_names: meningioma\n",
            "predicted: pituitary , real_names: pituitary\n",
            "predicted: pituitary , real_names: pituitary\n",
            "predicted: pituitary , real_names: pituitary\n",
            "predicted: meningioma , real_names: meningioma\n",
            "predicted: pituitary , real_names: pituitary\n",
            "predicted: pituitary , real_names: pituitary\n",
            "predicted: meningioma , real_names: meningioma\n",
            "predicted: meningioma , real_names: meningioma\n",
            "predicted: glioma , real_names: glioma\n",
            "predicted: meningioma , real_names: meningioma\n",
            "predicted: pituitary , real_names: pituitary\n",
            "predicted: glioma , real_names: glioma\n",
            "predicted: glioma , real_names: glioma\n",
            "predicted: pituitary , real_names: pituitary\n",
            "predicted: glioma , real_names: glioma\n",
            "predicted: glioma , real_names: glioma\n",
            "predicted: glioma , real_names: glioma\n",
            "predicted: pituitary , real_names: pituitary\n",
            "predicted: glioma , real_names: glioma\n",
            "predicted: meningioma , real_names: meningioma\n",
            "predicted: glioma , real_names: glioma\n",
            "predicted: pituitary , real_names: pituitary\n",
            "predicted: meningioma , real_names: meningioma\n",
            "predicted: pituitary , real_names: pituitary\n",
            "predicted: glioma , real_names: glioma\n",
            "predicted: pituitary , real_names: pituitary\n",
            "predicted: glioma , real_names: glioma\n",
            "predicted: pituitary , real_names: pituitary\n",
            "predicted: glioma , real_names: glioma\n",
            "predicted: pituitary , real_names: meningioma\n",
            "predicted: pituitary , real_names: pituitary\n",
            "predicted: pituitary , real_names: pituitary\n",
            "predicted: glioma , real_names: glioma\n",
            "predicted: meningioma , real_names: meningioma\n",
            "predicted: meningioma , real_names: meningioma\n",
            "predicted: pituitary , real_names: pituitary\n",
            "predicted: glioma , real_names: glioma\n",
            "predicted: glioma , real_names: glioma\n",
            "predicted: pituitary , real_names: pituitary\n",
            "predicted: pituitary , real_names: pituitary\n",
            "predicted: glioma , real_names: glioma\n",
            "predicted: pituitary , real_names: pituitary\n",
            "predicted: glioma , real_names: glioma\n",
            "predicted: pituitary , real_names: pituitary\n",
            "predicted: glioma , real_names: glioma\n",
            "predicted: meningioma , real_names: meningioma\n",
            "predicted: glioma , real_names: glioma\n",
            "predicted: glioma , real_names: glioma\n",
            "predicted: glioma , real_names: glioma\n",
            "predicted: pituitary , real_names: pituitary\n",
            "predicted: meningioma , real_names: meningioma\n",
            "predicted: glioma , real_names: glioma\n",
            "predicted: glioma , real_names: meningioma\n",
            "predicted: glioma , real_names: glioma\n",
            "predicted: pituitary , real_names: pituitary\n",
            "predicted: glioma , real_names: glioma\n",
            "predicted: glioma , real_names: glioma\n",
            "predicted: pituitary , real_names: pituitary\n",
            "predicted: meningioma , real_names: meningioma\n",
            "predicted: glioma , real_names: glioma\n",
            "predicted: glioma , real_names: glioma\n",
            "predicted: pituitary , real_names: pituitary\n",
            "predicted: meningioma , real_names: meningioma\n",
            "predicted: glioma , real_names: glioma\n",
            "predicted: meningioma , real_names: glioma\n",
            "predicted: meningioma , real_names: glioma\n",
            "predicted: pituitary , real_names: pituitary\n",
            "predicted: glioma , real_names: glioma\n",
            "predicted: glioma , real_names: glioma\n",
            "predicted: meningioma , real_names: meningioma\n",
            "predicted: pituitary , real_names: pituitary\n",
            "predicted: meningioma , real_names: meningioma\n",
            "predicted: pituitary , real_names: pituitary\n",
            "predicted: glioma , real_names: glioma\n",
            "predicted: meningioma , real_names: meningioma\n",
            "predicted: pituitary , real_names: pituitary\n",
            "predicted: glioma , real_names: glioma\n",
            "predicted: glioma , real_names: glioma\n",
            "predicted: pituitary , real_names: pituitary\n",
            "predicted: meningioma , real_names: meningioma\n",
            "predicted: pituitary , real_names: pituitary\n",
            "predicted: pituitary , real_names: pituitary\n",
            "predicted: glioma , real_names: glioma\n",
            "predicted: meningioma , real_names: meningioma\n",
            "predicted: glioma , real_names: glioma\n",
            "predicted: meningioma , real_names: meningioma\n",
            "predicted: glioma , real_names: glioma\n",
            "predicted: pituitary , real_names: pituitary\n",
            "predicted: meningioma , real_names: meningioma\n",
            "predicted: glioma , real_names: glioma\n",
            "predicted: pituitary , real_names: pituitary\n",
            "predicted: pituitary , real_names: pituitary\n",
            "predicted: pituitary , real_names: pituitary\n",
            "predicted: meningioma , real_names: meningioma\n",
            "predicted: pituitary , real_names: pituitary\n",
            "predicted: meningioma , real_names: meningioma\n",
            "predicted: meningioma , real_names: meningioma\n",
            "predicted: glioma , real_names: glioma\n",
            "predicted: pituitary , real_names: pituitary\n",
            "predicted: pituitary , real_names: pituitary\n",
            "predicted: meningioma , real_names: meningioma\n",
            "predicted: pituitary , real_names: pituitary\n",
            "predicted: pituitary , real_names: pituitary\n",
            "predicted: glioma , real_names: glioma\n",
            "predicted: glioma , real_names: glioma\n",
            "predicted: glioma , real_names: glioma\n",
            "predicted: meningioma , real_names: meningioma\n",
            "predicted: pituitary , real_names: pituitary\n",
            "predicted: meningioma , real_names: meningioma\n",
            "predicted: meningioma , real_names: glioma\n",
            "predicted: meningioma , real_names: meningioma\n",
            "predicted: glioma , real_names: glioma\n",
            "predicted: glioma , real_names: glioma\n",
            "predicted: pituitary , real_names: pituitary\n",
            "predicted: meningioma , real_names: meningioma\n",
            "predicted: pituitary , real_names: pituitary\n",
            "predicted: glioma , real_names: glioma\n",
            "predicted: meningioma , real_names: meningioma\n",
            "predicted: glioma , real_names: glioma\n",
            "predicted: glioma , real_names: glioma\n",
            "predicted: pituitary , real_names: pituitary\n",
            "predicted: meningioma , real_names: glioma\n",
            "predicted: glioma , real_names: glioma\n",
            "predicted: glioma , real_names: glioma\n",
            "predicted: meningioma , real_names: meningioma\n",
            "predicted: glioma , real_names: glioma\n",
            "predicted: glioma , real_names: glioma\n",
            "predicted: glioma , real_names: glioma\n",
            "predicted: pituitary , real_names: pituitary\n",
            "predicted: meningioma , real_names: meningioma\n",
            "predicted: glioma , real_names: glioma\n",
            "predicted: glioma , real_names: glioma\n",
            "predicted: glioma , real_names: glioma\n",
            "predicted: pituitary , real_names: pituitary\n",
            "predicted: glioma , real_names: glioma\n",
            "predicted: pituitary , real_names: pituitary\n",
            "predicted: glioma , real_names: glioma\n",
            "predicted: pituitary , real_names: pituitary\n",
            "predicted: glioma , real_names: glioma\n",
            "predicted: glioma , real_names: glioma\n",
            "predicted: meningioma , real_names: meningioma\n",
            "predicted: pituitary , real_names: pituitary\n",
            "predicted: meningioma , real_names: meningioma\n",
            "predicted: meningioma , real_names: meningioma\n",
            "predicted: meningioma , real_names: glioma\n",
            "predicted: glioma , real_names: glioma\n",
            "predicted: meningioma , real_names: meningioma\n",
            "predicted: glioma , real_names: glioma\n",
            "predicted: meningioma , real_names: meningioma\n",
            "predicted: glioma , real_names: glioma\n",
            "predicted: glioma , real_names: glioma\n",
            "predicted: pituitary , real_names: meningioma\n",
            "predicted: pituitary , real_names: pituitary\n",
            "predicted: meningioma , real_names: meningioma\n",
            "predicted: glioma , real_names: glioma\n",
            "predicted: pituitary , real_names: pituitary\n",
            "predicted: pituitary , real_names: pituitary\n",
            "predicted: glioma , real_names: glioma\n",
            "predicted: glioma , real_names: glioma\n",
            "predicted: glioma , real_names: glioma\n",
            "predicted: glioma , real_names: glioma\n",
            "predicted: pituitary , real_names: pituitary\n",
            "predicted: glioma , real_names: glioma\n",
            "predicted: glioma , real_names: glioma\n",
            "predicted: pituitary , real_names: pituitary\n",
            "predicted: glioma , real_names: glioma\n",
            "predicted: pituitary , real_names: pituitary\n",
            "predicted: pituitary , real_names: pituitary\n",
            "predicted: pituitary , real_names: pituitary\n",
            "predicted: pituitary , real_names: pituitary\n",
            "predicted: glioma , real_names: glioma\n",
            "predicted: pituitary , real_names: pituitary\n",
            "predicted: meningioma , real_names: glioma\n",
            "predicted: meningioma , real_names: meningioma\n",
            "predicted: glioma , real_names: glioma\n",
            "predicted: pituitary , real_names: pituitary\n",
            "predicted: pituitary , real_names: pituitary\n",
            "predicted: meningioma , real_names: meningioma\n",
            "predicted: glioma , real_names: glioma\n",
            "predicted: glioma , real_names: glioma\n",
            "predicted: glioma , real_names: glioma\n",
            "predicted: pituitary , real_names: pituitary\n",
            "predicted: meningioma , real_names: meningioma\n",
            "predicted: meningioma , real_names: glioma\n",
            "predicted: meningioma , real_names: meningioma\n",
            "predicted: pituitary , real_names: pituitary\n",
            "predicted: glioma , real_names: glioma\n",
            "predicted: pituitary , real_names: pituitary\n",
            "predicted: pituitary , real_names: pituitary\n",
            "predicted: glioma , real_names: glioma\n",
            "predicted: meningioma , real_names: meningioma\n",
            "predicted: pituitary , real_names: pituitary\n",
            "predicted: glioma , real_names: glioma\n",
            "predicted: meningioma , real_names: meningioma\n",
            "predicted: glioma , real_names: glioma\n",
            "predicted: glioma , real_names: glioma\n",
            "predicted: glioma , real_names: glioma\n",
            "predicted: pituitary , real_names: pituitary\n",
            "predicted: glioma , real_names: glioma\n",
            "predicted: glioma , real_names: meningioma\n",
            "predicted: glioma , real_names: glioma\n",
            "[[261, 22, 2], [12, 126, 3], [0, 1, 184]]\n"
          ],
          "name": "stdout"
        }
      ]
    },
    {
      "cell_type": "code",
      "metadata": {
        "id": "DDltwRm_ofJN",
        "colab_type": "code",
        "colab": {
          "base_uri": "https://localhost:8080/",
          "height": 51
        },
        "outputId": "9a8c416d-40cc-4d58-d70f-44d5890e2ee8"
      },
      "source": [
        "loss, acc = model.evaluate(validation_imgs_scaled,  validation_labels_c, verbose=2)\n",
        "print('Restored model, accuracy: {:5.2f}%'.format(100*acc))\n",
        "print(\"correctly recognized images=\",count,'/',total)    "
      ],
      "execution_count": null,
      "outputs": [
        {
          "output_type": "stream",
          "text": [
            "Restored model, accuracy: 95.64%\n",
            "correctly recognized images= 571 / 611\n"
          ],
          "name": "stdout"
        }
      ]
    },
    {
      "cell_type": "code",
      "metadata": {
        "id": "rXymW5OKofm8",
        "colab_type": "code",
        "colab": {
          "base_uri": "https://localhost:8080/",
          "height": 500
        },
        "outputId": "22ebef2c-e805-4e94-8f6d-991b26396acd"
      },
      "source": [
        "import seaborn as sn\n",
        "import pandas as pd\n",
        "import matplotlib.pyplot as plt\n",
        "array = p\n",
        "df_cm = pd.DataFrame(array, index = [i for i in ['glioma','meningioma','pituitay']],\n",
        "                  columns = [i for i in ['glioma','meningioma','pituitay']])\n",
        "plt.figure(figsize = (10,7))\n",
        "sn.heatmap(df_cm, annot=True, fmt=\"d\")"
      ],
      "execution_count": null,
      "outputs": [
        {
          "output_type": "stream",
          "text": [
            "/usr/local/lib/python3.6/dist-packages/statsmodels/tools/_testing.py:19: FutureWarning: pandas.util.testing is deprecated. Use the functions in the public API at pandas.testing instead.\n",
            "  import pandas.util.testing as tm\n"
          ],
          "name": "stderr"
        },
        {
          "output_type": "execute_result",
          "data": {
            "text/plain": [
              "<matplotlib.axes._subplots.AxesSubplot at 0x7f2a2bcf9518>"
            ]
          },
          "metadata": {
            "tags": []
          },
          "execution_count": 31
        },
        {
          "output_type": "display_data",
          "data": {
            "image/png": "[encoded data removed]",
            "text/plain": [
              "<Figure size 720x504 with 2 Axes>"
            ]
          },
          "metadata": {
            "tags": [],
            "needs_background": "light"
          }
        }
      ]
    },
    {
      "cell_type": "code",
      "metadata": {
        "id": "RuqXHowc28lN",
        "colab_type": "code",
        "colab": {
          "base_uri": "https://localhost:8080/",
          "height": 69
        },
        "outputId": "31790711-a30e-4281-ec00-47b33a871307"
      },
      "source": [
        "from sklearn.metrics import confusion_matrix\n",
        "cm = confusion_matrix(validation_labels, c)\n",
        "print(cm)"
      ],
      "execution_count": null,
      "outputs": [
        {
          "output_type": "stream",
          "text": [
            "[[249  20  17]\n",
            " [ 51  65  26]\n",
            " [ 11   4 171]]\n"
          ],
          "name": "stdout"
        }
      ]
    },
    {
      "cell_type": "code",
      "metadata": {
        "id": "hTMCepaI245j",
        "colab_type": "code",
        "colab": {
          "base_uri": "https://localhost:8080/",
          "height": 190
        },
        "outputId": "7f7b202e-735f-4c12-8152-9e495546d9e5"
      },
      "source": [
        "from sklearn.metrics import classification_report\n",
        "print(classification_report(validation_labels, c))"
      ],
      "execution_count": null,
      "outputs": [
        {
          "output_type": "stream",
          "text": [
            "              precision    recall  f1-score   support\n",
            "\n",
            "      glioma       0.80      0.87      0.83       286\n",
            "  meningioma       0.73      0.46      0.56       142\n",
            "   pituitary       0.80      0.92      0.85       186\n",
            "\n",
            "    accuracy                           0.79       614\n",
            "   macro avg       0.78      0.75      0.75       614\n",
            "weighted avg       0.78      0.79      0.78       614\n",
            "\n"
          ],
          "name": "stdout"
        }
      ]
    },
    {
      "cell_type": "code",
      "metadata": {
        "id": "fAKeECaNWnmQ",
        "colab_type": "code",
        "colab": {}
      },
      "source": [
        ""
      ],
      "execution_count": null,
      "outputs": []
    },
    {
      "cell_type": "code",
      "metadata": {
        "id": "1n8tSFp7XIzV",
        "colab_type": "code",
        "colab": {}
      },
      "source": [
        ""
      ],
      "execution_count": null,
      "outputs": []
    },
    {
      "cell_type": "code",
      "metadata": {
        "id": "joMpFtdkXf0E",
        "colab_type": "code",
        "colab": {}
      },
      "source": [
        ""
      ],
      "execution_count": null,
      "outputs": []
    },
    {
      "cell_type": "code",
      "metadata": {
        "id": "Mqe__vg4W3TP",
        "colab_type": "code",
        "colab": {}
      },
      "source": [
        ""
      ],
      "execution_count": null,
      "outputs": []
    },
    {
      "cell_type": "code",
      "metadata": {
        "id": "cc3gDS5GY5I_",
        "colab_type": "code",
        "colab": {}
      },
      "source": [
        "\n"
      ],
      "execution_count": null,
      "outputs": []
    },
    {
      "cell_type": "code",
      "metadata": {
        "id": "QPrEHnX0Yr1Q",
        "colab_type": "code",
        "colab": {}
      },
      "source": [
        ""
      ],
      "execution_count": null,
      "outputs": []
    },
    {
      "cell_type": "code",
      "metadata": {
        "id": "Jr-oHuMoZuhn",
        "colab_type": "code",
        "colab": {}
      },
      "source": [
        ""
      ],
      "execution_count": null,
      "outputs": []
    }
  ]
}