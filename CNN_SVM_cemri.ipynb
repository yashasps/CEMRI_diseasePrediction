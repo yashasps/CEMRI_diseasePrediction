{
  "nbformat": 4,
  "nbformat_minor": 0,
  "metadata": {
    "colab": {
      "name": "CNN_SVM_cemri.ipynb",
      "provenance": []
    },
    "kernelspec": {
      "name": "python3",
      "display_name": "Python 3"
    }
  },
  "cells": [
    {
      "cell_type": "code",
      "metadata": {
        "id": "EcB_VD_im3dX",
        "colab_type": "code",
        "colab": {}
      },
      "source": [
        "import shutil\n",
        "shutil.unpack_archive(\"/content/cemri new.zip\", \"/content/cemri/\")"
      ],
      "execution_count": null,
      "outputs": []
    },
    {
      "cell_type": "code",
      "metadata": {
        "id": "s1oqsmaNoLf5",
        "colab_type": "code",
        "colab": {}
      },
      "source": [
        "import glob\n",
        "import os\n",
        "import numpy as np\n",
        "import matplotlib.pyplot as plt\n",
        "from sklearn.model_selection import train_test_split\n",
        "from keras.preprocessing.image import ImageDataGenerator, load_img, img_to_array, array_to_img"
      ],
      "execution_count": null,
      "outputs": []
    },
    {
      "cell_type": "code",
      "metadata": {
        "id": "y-QLR1a8oOuZ",
        "colab_type": "code",
        "colab": {}
      },
      "source": [
        "#loading images using load_img\n",
        "\n",
        "#converting images into array\n",
        "\n",
        "#putting array images into train_imgs\n",
        "\n",
        "IMG_DIM = (256, 256)\n",
        "train_files = glob.glob('/content/cemri/trainhis/*')\n",
        "train_imgs = [img_to_array(load_img(img, target_size=IMG_DIM)) for img in train_files]\n",
        "train_imgs = np.array(train_imgs)\n",
        "\n",
        "#getting labels from the image name\n",
        "train_labels = [fn.split('/')[-1].split('_')[0]  for fn  in train_files]\n",
        "\n",
        "validation_files = glob.glob('/content/cemri/testhis/*')\n",
        "validation_imgs = [img_to_array(load_img(img, target_size=IMG_DIM)) for img in validation_files]\n",
        "validation_imgs = np.array(validation_imgs)\n",
        "validation_labels = [fn.split('/')[-1].split('_')[0]  for fn in validation_files]\n",
        "\n"
      ],
      "execution_count": null,
      "outputs": []
    },
    {
      "cell_type": "code",
      "metadata": {
        "id": "aQ4j6AfPoPMR",
        "colab_type": "code",
        "colab": {
          "base_uri": "https://localhost:8080/",
          "height": 52
        },
        "outputId": "6a9e398f-e98f-4f27-a477-2ec3d85a6b17"
      },
      "source": [
        "print(len(validation_labels),len(train_labels))\n",
        "\n",
        "print(validation_imgs.shape)"
      ],
      "execution_count": null,
      "outputs": [
        {
          "output_type": "stream",
          "text": [
            "614 2450\n",
            "(614, 256, 256, 3)\n"
          ],
          "name": "stdout"
        }
      ]
    },
    {
      "cell_type": "code",
      "metadata": {
        "id": "lFB7RrPRoPop",
        "colab_type": "code",
        "colab": {}
      },
      "source": [
        "#normalizing individual channel in images array\n",
        "\n",
        "train_imgs_scaled = train_imgs.astype('float32')\n",
        "validation_imgs_scaled  = validation_imgs.astype('float32')\n",
        "train_imgs_scaled /= 255.\n",
        "validation_imgs_scaled /= 255.\n",
        "\n"
      ],
      "execution_count": null,
      "outputs": []
    },
    {
      "cell_type": "code",
      "metadata": {
        "id": "O_Kkx4vXAwBt",
        "colab_type": "code",
        "colab": {}
      },
      "source": [
        "batch_size = 64\n",
        "epochs = 6\n",
        "input_shape = (256,256, 3)"
      ],
      "execution_count": null,
      "outputs": []
    },
    {
      "cell_type": "code",
      "metadata": {
        "id": "iBJjSdYUAylC",
        "colab_type": "code",
        "colab": {}
      },
      "source": [
        "#encoding image labels \n",
        "\n",
        "from sklearn.preprocessing import LabelEncoder\n",
        "\n",
        "le = LabelEncoder()\n",
        "le.fit(train_labels)\n",
        "train_labels_enc = le.transform(train_labels)\n",
        "validation_labels_enc = le.transform(validation_labels)\n",
        "\n",
        "#tranforming labels to catogerical\n",
        "from keras.utils import to_categorical\n",
        "train_labels_c = to_categorical(train_labels_enc)\n",
        "validation_labels_c = to_categorical(validation_labels_enc)"
      ],
      "execution_count": null,
      "outputs": []
    },
    {
      "cell_type": "code",
      "metadata": {
        "id": "c77JeWf3Rc0c",
        "colab_type": "code",
        "colab": {
          "base_uri": "https://localhost:8080/",
          "height": 537
        },
        "outputId": "8dd692f2-817c-4929-d398-7b4b77923bcb"
      },
      "source": [
        "from keras.layers import Conv2D, MaxPooling2D, Flatten, Dense, Dropout\n",
        "from keras.models import Sequential\n",
        "from keras import optimizers\n",
        "import tensorflow as tf\n",
        "\n",
        "model = Sequential()\n",
        "\n",
        "model.add(Conv2D(16, kernel_size=(3, 3), activation='relu',\n",
        "                 input_shape=input_shape))\n",
        "model.add(MaxPooling2D(pool_size=(2, 2)))\n",
        "\n",
        "model.add(Conv2D(64, kernel_size=(3, 3), activation='relu'))\n",
        "model.add(MaxPooling2D(pool_size=(2, 2)))\n",
        "\n",
        "model.add(Conv2D(128, kernel_size=(3, 3), activation='relu'))\n",
        "model.add(MaxPooling2D(pool_size=(2, 2)))\n",
        "\n",
        "model.add(Conv2D(256, kernel_size=(3, 3), activation='relu'))\n",
        "model.add(MaxPooling2D(pool_size=(2, 2)))\n",
        "\n",
        "model.add(Flatten())\n",
        "model.add(Dense(512, activation=tf.nn.relu))\n",
        "model.add(Dense(3, activation=tf.nn.softmax))\n",
        "\n",
        "opt = optimizers.Adam(learning_rate = 0.001) \n",
        "model.compile(loss='binary_crossentropy',\n",
        "              optimizer=opt,\n",
        "              metrics=['accuracy'])\n",
        "\n",
        "model.summary()"
      ],
      "execution_count": null,
      "outputs": [
        {
          "output_type": "stream",
          "text": [
            "Model: \"sequential_2\"\n",
            "_________________________________________________________________\n",
            "Layer (type)                 Output Shape              Param #   \n",
            "=================================================================\n",
            "conv2d_5 (Conv2D)            (None, 254, 254, 16)      448       \n",
            "_________________________________________________________________\n",
            "max_pooling2d_5 (MaxPooling2 (None, 127, 127, 16)      0         \n",
            "_________________________________________________________________\n",
            "conv2d_6 (Conv2D)            (None, 125, 125, 64)      9280      \n",
            "_________________________________________________________________\n",
            "max_pooling2d_6 (MaxPooling2 (None, 62, 62, 64)        0         \n",
            "_________________________________________________________________\n",
            "conv2d_7 (Conv2D)            (None, 60, 60, 128)       73856     \n",
            "_________________________________________________________________\n",
            "max_pooling2d_7 (MaxPooling2 (None, 30, 30, 128)       0         \n",
            "_________________________________________________________________\n",
            "conv2d_8 (Conv2D)            (None, 28, 28, 256)       295168    \n",
            "_________________________________________________________________\n",
            "max_pooling2d_8 (MaxPooling2 (None, 14, 14, 256)       0         \n",
            "_________________________________________________________________\n",
            "flatten_2 (Flatten)          (None, 50176)             0         \n",
            "_________________________________________________________________\n",
            "dense_3 (Dense)              (None, 512)               25690624  \n",
            "_________________________________________________________________\n",
            "dense_4 (Dense)              (None, 3)                 1539      \n",
            "=================================================================\n",
            "Total params: 26,070,915\n",
            "Trainable params: 26,070,915\n",
            "Non-trainable params: 0\n",
            "_________________________________________________________________\n"
          ],
          "name": "stdout"
        }
      ]
    },
    {
      "cell_type": "code",
      "metadata": {
        "id": "kBy6a1CrvFQ0",
        "colab_type": "code",
        "colab": {
          "base_uri": "https://localhost:8080/",
          "height": 242
        },
        "outputId": "9489ef20-86c2-40a4-96f8-3d517e10db2f"
      },
      "source": [
        "history = model.fit(x=train_imgs_scaled, y=train_labels_c,\n",
        "                    validation_data=(validation_imgs_scaled, validation_labels_c),\n",
        "                    batch_size=batch_size,\n",
        "                    epochs=epochs,\n",
        "                    verbose=1)"
      ],
      "execution_count": null,
      "outputs": [
        {
          "output_type": "stream",
          "text": [
            "Train on 2450 samples, validate on 614 samples\n",
            "Epoch 1/6\n",
            "2450/2450 [==============================] - 294s 120ms/step - loss: 0.5745 - accuracy: 0.7329 - val_loss: 0.3367 - val_accuracy: 0.8415\n",
            "Epoch 2/6\n",
            "2450/2450 [==============================] - 293s 120ms/step - loss: 0.2781 - accuracy: 0.8754 - val_loss: 0.2507 - val_accuracy: 0.8974\n",
            "Epoch 3/6\n",
            "2450/2450 [==============================] - 294s 120ms/step - loss: 0.2046 - accuracy: 0.9103 - val_loss: 0.1807 - val_accuracy: 0.9240\n",
            "Epoch 4/6\n",
            "2450/2450 [==============================] - 293s 120ms/step - loss: 0.1575 - accuracy: 0.9358 - val_loss: 0.1874 - val_accuracy: 0.9316\n",
            "Epoch 5/6\n",
            "2450/2450 [==============================] - 293s 120ms/step - loss: 0.1341 - accuracy: 0.9452 - val_loss: 0.1630 - val_accuracy: 0.9397\n",
            "Epoch 6/6\n",
            "2450/2450 [==============================] - 292s 119ms/step - loss: 0.1015 - accuracy: 0.9604 - val_loss: 0.2173 - val_accuracy: 0.9115\n"
          ],
          "name": "stdout"
        }
      ]
    },
    {
      "cell_type": "code",
      "metadata": {
        "id": "OSDeUt4TwUtW",
        "colab_type": "code",
        "colab": {}
      },
      "source": [
        "from keras.models import Sequential, Model"
      ],
      "execution_count": null,
      "outputs": []
    },
    {
      "cell_type": "code",
      "metadata": {
        "id": "8-_HYZzSvN9f",
        "colab_type": "code",
        "colab": {
          "base_uri": "https://localhost:8080/",
          "height": 52
        },
        "outputId": "7690153b-9265-48a8-a486-96905647548f"
      },
      "source": [
        "model_feat = Model(inputs=model.input,outputs=model.get_layer('max_pooling2d_8').output)\n",
        "\n",
        "feat_train = model_feat.predict(train_imgs_scaled)\n",
        "print(feat_train.shape)\n",
        "\n",
        "feat_val = model_feat.predict(validation_imgs_scaled)\n",
        "print(feat_val.shape)\n"
      ],
      "execution_count": null,
      "outputs": [
        {
          "output_type": "stream",
          "text": [
            "(2450, 14, 14, 256)\n",
            "(614, 14, 14, 256)\n"
          ],
          "name": "stdout"
        }
      ]
    },
    {
      "cell_type": "code",
      "metadata": {
        "id": "6nPCGISzPpW9",
        "colab_type": "code",
        "colab": {
          "base_uri": "https://localhost:8080/",
          "height": 72
        },
        "outputId": "7091bf0d-f575-4e00-808a-76dff1c47134"
      },
      "source": [
        "import seaborn as sns"
      ],
      "execution_count": null,
      "outputs": [
        {
          "output_type": "stream",
          "text": [
            "/usr/local/lib/python3.6/dist-packages/statsmodels/tools/_testing.py:19: FutureWarning: pandas.util.testing is deprecated. Use the functions in the public API at pandas.testing instead.\n",
            "  import pandas.util.testing as tm\n"
          ],
          "name": "stderr"
        }
      ]
    },
    {
      "cell_type": "code",
      "metadata": {
        "id": "xfmZ_Z0pWBcN",
        "colab_type": "code",
        "colab": {
          "base_uri": "https://localhost:8080/",
          "height": 34
        },
        "outputId": "17d8bf9d-f5b2-4a81-87c2-e496b7ae3180"
      },
      "source": [
        "feat_train[0][0].shape"
      ],
      "execution_count": null,
      "outputs": [
        {
          "output_type": "execute_result",
          "data": {
            "text/plain": [
              "(14, 256)"
            ]
          },
          "metadata": {
            "tags": []
          },
          "execution_count": 54
        }
      ]
    },
    {
      "cell_type": "code",
      "metadata": {
        "id": "m3WJzeSPvrpW",
        "colab_type": "code",
        "colab": {
          "base_uri": "https://localhost:8080/",
          "height": 86
        },
        "outputId": "c393f296-f363-472d-9635-a47f5adf506f"
      },
      "source": [
        "from sklearn.svm import SVC\n",
        "\n",
        "svm = SVC(kernel='rbf')\n",
        "\n",
        "svm.fit(feat_train,np.argmax(train_labels_c,axis=1))"
      ],
      "execution_count": null,
      "outputs": [
        {
          "output_type": "execute_result",
          "data": {
            "text/plain": [
              "SVC(C=1.0, break_ties=False, cache_size=200, class_weight=None, coef0=0.0,\n",
              "    decision_function_shape='ovr', degree=3, gamma='scale', kernel='rbf',\n",
              "    max_iter=-1, probability=False, random_state=None, shrinking=True,\n",
              "    tol=0.001, verbose=False)"
            ]
          },
          "metadata": {
            "tags": []
          },
          "execution_count": 48
        }
      ]
    },
    {
      "cell_type": "code",
      "metadata": {
        "id": "ww4vCnRHwmNs",
        "colab_type": "code",
        "colab": {
          "base_uri": "https://localhost:8080/",
          "height": 34
        },
        "outputId": "25afeed7-ccc7-4754-ccd5-370eca0a555b"
      },
      "source": [
        "svm.score(feat_train,np.argmax(train_labels_c,axis=1))"
      ],
      "execution_count": null,
      "outputs": [
        {
          "output_type": "execute_result",
          "data": {
            "text/plain": [
              "0.9514285714285714"
            ]
          },
          "metadata": {
            "tags": []
          },
          "execution_count": 49
        }
      ]
    },
    {
      "cell_type": "code",
      "metadata": {
        "id": "NK0ZAyim1r4M",
        "colab_type": "code",
        "colab": {
          "base_uri": "https://localhost:8080/",
          "height": 34
        },
        "outputId": "76a7feb4-7368-4e6a-c701-359bbe95bceb"
      },
      "source": [
        "svm.score(feat_val,np.argmax(validation_labels_c,axis=1))\n"
      ],
      "execution_count": null,
      "outputs": [
        {
          "output_type": "execute_result",
          "data": {
            "text/plain": [
              "0.9315960912052117"
            ]
          },
          "metadata": {
            "tags": []
          },
          "execution_count": 50
        }
      ]
    },
    {
      "cell_type": "code",
      "metadata": {
        "id": "q_wnRR4kw094",
        "colab_type": "code",
        "colab": {}
      },
      "source": [
        "rm -r '/content/cemri/train'"
      ],
      "execution_count": null,
      "outputs": []
    },
    {
      "cell_type": "code",
      "metadata": {
        "id": "0o_l89dGzAlU",
        "colab_type": "code",
        "colab": {}
      },
      "source": [
        ""
      ],
      "execution_count": null,
      "outputs": []
    }
  ]
}